{
  "nbformat": 4,
  "nbformat_minor": 0,
  "metadata": {
    "colab": {
      "provenance": [],
      "authorship_tag": "ABX9TyM64YFw3C5FzSwmi6ZT48Yd",
      "include_colab_link": true
    },
    "kernelspec": {
      "name": "python3",
      "display_name": "Python 3"
    },
    "language_info": {
      "name": "python"
    }
  },
  "cells": [
    {
      "cell_type": "markdown",
      "metadata": {
        "id": "view-in-github",
        "colab_type": "text"
      },
      "source": [
        "<a href=\"https://colab.research.google.com/github/algsn/DAA/blob/main/DAA__P7.ipynb\" target=\"_parent\"><img src=\"https://colab.research.google.com/assets/colab-badge.svg\" alt=\"Open In Colab\"/></a>"
      ]
    },
    {
      "cell_type": "code",
      "execution_count": 4,
      "metadata": {
        "id": "iEhTvaOJa7sU"
      },
      "outputs": [],
      "source": [
        "mat1 = [\n",
        "    [7, 0],\n",
        "    [4, 6],\n",
        "]\n",
        "\n",
        "mat2 = [\n",
        "    [3, 0],\n",
        "    [5, 2],\n",
        "]\n",
        "\n",
        "mat3 = []\n",
        "\n",
        "for x in range(0, len(mat1[0])):\n",
        "    row =[]\n",
        "    for y in range(0, len(mat1)):\n",
        "        total = 0\n",
        "        for z in range(0, len(mat1)):\n",
        "            total = total + (mat1[x][z] * mat2[z][y])\n",
        "        row.append(row)\n",
        "\n",
        "for x in range(0, len(mat3)):\n",
        "    for y in range(0, len(mat3[0])):\n",
        "        ptint (mat3[x][y], end=' ')\n",
        "    print ()"
      ]
    },
    {
      "cell_type": "code",
      "source": [],
      "metadata": {
        "id": "W7UVCI6qZGm2"
      },
      "execution_count": null,
      "outputs": []
    },
    {
      "cell_type": "code",
      "source": [
        "def faktorial(n):\n",
        "  if (n==1):\n",
        "    return n\n",
        "  return faktorial(n-1)*n\n",
        "\n",
        "n = int(input(\"Masukan Nilai n: \")) #inpt nilai\n",
        "print(f\"Hasil dari {n}!\", faktorial(n)) #outpt nilai\n"
      ],
      "metadata": {
        "colab": {
          "base_uri": "https://localhost:8080/"
        },
        "id": "9QuQnUGxc2Fj",
        "outputId": "58be2638-1f50-4c41-a915-3b91f93d17ef"
      },
      "execution_count": 2,
      "outputs": [
        {
          "output_type": "stream",
          "name": "stdout",
          "text": [
            "Masukan Nilai n: 4\n",
            "Hasil dari 4! 24\n"
          ]
        }
      ]
    },
    {
      "cell_type": "code",
      "source": [
        "def nilai_maksimal(deret_bilangan):\n",
        "  nilai_terbesar = deret_bilangan[0]\n",
        "\n",
        "  for nilai in deret_bilangan:\n",
        "    if nilai > nilai_terbesar:\n",
        "      nilai_terbesar = nilai\n",
        "\n",
        "  return nilai_terbesar"
      ],
      "metadata": {
        "id": "OClwRW5gdeP5"
      },
      "execution_count": 3,
      "outputs": []
    },
    {
      "cell_type": "code",
      "source": [
        "a = [3, 20, 100, -35, 50]\n",
        "\n",
        "print(a)\n",
        "print('Nilai Terbesar:', nilai_maksimal(a))"
      ],
      "metadata": {
        "colab": {
          "base_uri": "https://localhost:8080/"
        },
        "id": "Yb6SGbGed8mH",
        "outputId": "78da303f-a27c-445b-9802-52d1a2973919"
      },
      "execution_count": 5,
      "outputs": [
        {
          "output_type": "stream",
          "name": "stdout",
          "text": [
            "[3, 20, 100, -35, 50]\n",
            "Nilai Terbesar: 100\n"
          ]
        }
      ]
    },
    {
      "cell_type": "code",
      "source": [
        "def nilai_terkecil(deret_bilangan):\n",
        "  nilai_terkecil = deret_bilangan[0]\n",
        "\n",
        "  for nilai in deret_bilangan:\n",
        "    if nilai < nilai_terkecil:\n",
        "      nilai_terkecil = nilai\n",
        "\n",
        "  return nilai_terkecil"
      ],
      "metadata": {
        "id": "TeShraZDehDz"
      },
      "execution_count": 6,
      "outputs": []
    },
    {
      "cell_type": "code",
      "source": [
        "a = [3, 20, 100, -35, 50]\n",
        "\n",
        "print(a)\n",
        "print('Nilai Terkecil:', nilai_terkecil(a))"
      ],
      "metadata": {
        "colab": {
          "base_uri": "https://localhost:8080/"
        },
        "id": "g7sDQMvBemDB",
        "outputId": "25066c1c-a735-44fb-f3f8-3aed60ea164f"
      },
      "execution_count": 7,
      "outputs": [
        {
          "output_type": "stream",
          "name": "stdout",
          "text": [
            "[3, 20, 100, -35, 50]\n",
            "Nilai Terkecil: -35\n"
          ]
        }
      ]
    },
    {
      "cell_type": "code",
      "source": [
        "def sequentialSearch(alist, item):\n",
        "  pos = 0\n",
        "  found = False\n",
        "\n",
        "  while pos < len(alist) and not found:\n",
        "    if alist[pos] == item:\n",
        "      found = True\n",
        "    else:\n",
        "      pos = pos+1\n",
        "  return found\n",
        "\n",
        "testlist = [1, 2, 32, 8, 17, 19, 42, 13, 0]\n",
        "print(sequentialSearch(testlist, 3))\n",
        "print(sequentialSearch(testlist, 2))\n"
      ],
      "metadata": {
        "colab": {
          "base_uri": "https://localhost:8080/"
        },
        "id": "LE8Enum9hBuw",
        "outputId": "868f1de8-f8a7-460f-aee1-6ce412430194"
      },
      "execution_count": 11,
      "outputs": [
        {
          "output_type": "stream",
          "name": "stdout",
          "text": [
            "False\n",
            "True\n"
          ]
        }
      ]
    },
    {
      "cell_type": "code",
      "source": [
        "def bubbleSort(alist):\n",
        "    for passnum in range(len(alist)-1,0,-1):\n",
        "        for i in range(passnum):\n",
        "            if alist[i]>alist[i+1]:\n",
        "                temp = alist[i]\n",
        "                alist[i] = alist[i+1]\n",
        "                alist[i+1] = temp\n",
        "\n",
        "alist = [54,26,93,17,77,31,44,55,20]\n",
        "bubbleSort(alist)\n",
        "print(alist)"
      ],
      "metadata": {
        "colab": {
          "base_uri": "https://localhost:8080/"
        },
        "id": "6DmlL54-iJWf",
        "outputId": "ea953e44-6453-4147-dff5-4b7176af2b88"
      },
      "execution_count": 12,
      "outputs": [
        {
          "output_type": "stream",
          "name": "stdout",
          "text": [
            "[17, 20, 26, 31, 44, 54, 55, 77, 93]\n"
          ]
        }
      ]
    },
    {
      "cell_type": "code",
      "source": [
        "#Uji Keprimaan\n",
        "x = int(input('Input satu angka bulat: '))\n",
        "\n",
        "angka_prima = True\n",
        "if((x == 0) or (x == 1)):\n",
        "  angka_prima = False\n",
        "else:\n",
        "  for i in range(2,(x//2)):\n",
        "    if ((x % i) == 0):\n",
        "        angka_prima = False\n",
        "        break\n",
        "\n",
        "if(angka_prima):\n",
        "  print(x,'adalah angka prima')\n",
        "else:\n",
        "  print(x,'bukan angka prima')"
      ],
      "metadata": {
        "colab": {
          "base_uri": "https://localhost:8080/"
        },
        "id": "F9YEGReHi7NZ",
        "outputId": "ad4b3665-28c9-45f1-b529-303e6eef80ea"
      },
      "execution_count": 13,
      "outputs": [
        {
          "output_type": "stream",
          "name": "stdout",
          "text": [
            "Input satu angka bulat: 7\n",
            "7 adalah angka prima\n"
          ]
        }
      ]
    },
    {
      "cell_type": "code",
      "source": [
        "def polynominal_py(a, x):\n",
        "  result = 0\n",
        "  # for every n in 0..len(a)-1\n",
        "  for n, a_n in enumerate(a):\n",
        "    # compute x^n\n",
        "    x_power_n = 1\n",
        "    for i in range(n):\n",
        "      x_power_n *= x\n",
        "    #add a_n * x^n to the final result\n",
        "    result += a_n * x_power_n\n",
        "  return result"
      ],
      "metadata": {
        "id": "2ex1lBejjyz3"
      },
      "execution_count": 14,
      "outputs": []
    },
    {
      "cell_type": "code",
      "source": [
        "a = [1,2,0,3]\n",
        "x =1.5\n",
        "print(polynominal_py(a, x)) #14.125"
      ],
      "metadata": {
        "colab": {
          "base_uri": "https://localhost:8080/"
        },
        "id": "26IEo0h0kg9V",
        "outputId": "3f89a2c9-f705-4091-d7f6-8ccfb1632373"
      },
      "execution_count": 16,
      "outputs": [
        {
          "output_type": "stream",
          "name": "stdout",
          "text": [
            "14.125\n"
          ]
        }
      ]
    },
    {
      "cell_type": "code",
      "source": [
        "from IPython.testing import test\n",
        "test_str = \"GfG is good website\";\n",
        "\n",
        "test_list =[\"GfG\", \"site\", \"CS\", \"Geeks\", \"Tutorial\"]\n",
        "\n",
        "print(\"The original string is : \" + test_str)\n",
        "\n",
        "print(\"The original list is : \" + str(test_list))\n",
        "\n",
        "res = [sub for sub in test_list if sub in test_str]\n",
        "\n",
        "print(\"The list of found substrings : \" + str(res))"
      ],
      "metadata": {
        "colab": {
          "base_uri": "https://localhost:8080/"
        },
        "id": "zqP9yUHan6kO",
        "outputId": "32e62c1c-59f1-45ef-e556-35aceed72d1b"
      },
      "execution_count": 17,
      "outputs": [
        {
          "output_type": "stream",
          "name": "stdout",
          "text": [
            "The original string is : GfG is good website\n",
            "The original list is : ['GfG', 'site', 'CS', 'Geeks', 'Tutorial']\n",
            "The list of found substrings : ['GfG', 'site']\n"
          ]
        }
      ]
    },
    {
      "cell_type": "code",
      "source": [
        "from math import sqrt\n",
        "from random import randint\n",
        "titik = []\n",
        "n = int(input('Masukan Jumalah Titik Yang Ingin Anda Cari Jaraknya: '))\n",
        "for i in range (0,n):\n",
        "    titik.append([randint(0,100),randint(0,100)])\n",
        "print('Titik:\\n',titik)\n",
        "def hitungjarak(lis):\n",
        "    lisjarak = []\n",
        "    for i in range (0,len(lis)-1):\n",
        "        for j in range (i+1,len(lis)):\n",
        "            jarak = sqrt((lis[i][0]-lis[j][0])**2 + (lis[i][1]-lis[j][1])**2)\n",
        "            lisjarak.append(jarak)\n",
        "            print('Titik: ',lis[i], 'Titik: ',lis[j],': ',jarak)\n",
        "    return min(lisjarak)\n",
        "print('Jarak terdejat:\\n',hitungjarak(titik))"
      ],
      "metadata": {
        "colab": {
          "base_uri": "https://localhost:8080/"
        },
        "id": "XjF-sQwRo631",
        "outputId": "d24d6d67-ce45-4153-efd0-ed41af357d23"
      },
      "execution_count": 22,
      "outputs": [
        {
          "output_type": "stream",
          "name": "stdout",
          "text": [
            "Masukan Jumalah Titik Yang Ingin Anda Cari Jaraknya: 3\n",
            "Titik:\n",
            " [[64, 54], [67, 9], [75, 53]]\n",
            "Titik:  [64, 54] Titik:  [67, 9] :  45.09988913511872\n",
            "Titik:  [64, 54] Titik:  [75, 53] :  11.045361017187261\n",
            "Titik:  [67, 9] Titik:  [75, 53] :  44.721359549995796\n",
            "Jarak terdejat:\n",
            " 11.045361017187261\n"
          ]
        }
      ]
    },
    {
      "cell_type": "code",
      "source": [
        "#Finf=d Maximum Value in Linear Search\n",
        "def find_maximum(lst):\n",
        "  max = None\n",
        "  for el in lst:\n",
        "    if max == None or el > max:\n",
        "      max = el\n",
        "  return max\n",
        "test_scores = [88, 93, 75, 100, 80, 67, 71, 92, 90, 83]\n",
        "print(find_maximum(test_scores))"
      ],
      "metadata": {
        "colab": {
          "base_uri": "https://localhost:8080/"
        },
        "id": "lIfgi0Xwsgr7",
        "outputId": "6a50cd97-a974-4fb8-bbb9-b189f6fa85f8"
      },
      "execution_count": 23,
      "outputs": [
        {
          "output_type": "stream",
          "name": "stdout",
          "text": [
            "100\n"
          ]
        }
      ]
    },
    {
      "cell_type": "code",
      "source": [
        "def Sequential_Search(dlist, item):\n",
        "\n",
        "    pos = 0\n",
        "    found = False\n",
        "\n",
        "    while pos < len(dlist) and not found:\n",
        "        if dlist[pos] == item:\n",
        "            found = True\n",
        "        else:\n",
        "            pos = pos + 1\n",
        "\n",
        "    return found, pos"
      ],
      "metadata": {
        "id": "SpysadWhtIB-"
      },
      "execution_count": 30,
      "outputs": []
    },
    {
      "cell_type": "code",
      "source": [
        "print(Sequential_Search([11,23,58,31,56,77,43,12,65,19],31))"
      ],
      "metadata": {
        "colab": {
          "base_uri": "https://localhost:8080/"
        },
        "id": "q-aGJVy6tH3i",
        "outputId": "7e85922c-0374-4b2c-849a-5f3f726c2933"
      },
      "execution_count": 31,
      "outputs": [
        {
          "output_type": "stream",
          "name": "stdout",
          "text": [
            "(True, 3)\n"
          ]
        }
      ]
    },
    {
      "cell_type": "code",
      "source": [
        "# Deret a sampai h\n",
        "deret = ['a', 'b', 'c', 'd', 'e', 'f', 'g', 'h']\n",
        "\n",
        "# String yang ingin dicari\n",
        "target = 'g'\n",
        "\n",
        "# Sequential Search\n",
        "def sequential_search(deret, target):\n",
        "    for i in range(len(deret)):\n",
        "        if deret[i] == target:\n",
        "            return i  # Mengembalikan indeks di mana 'g' ditemukan\n",
        "    return -1  # Mengembalikan -1 jika 'g' tidak ditemukan\n",
        "\n",
        "indeks = sequential_search(deret, target)\n",
        "\n",
        "if indeks != -1:\n",
        "    print(f\"'{target}' ditemukan di indeks {indeks} dalam deret.\")\n",
        "else:\n",
        "    print(f\"'{target}' tidak ditemukan dalam deret.\")\n"
      ],
      "metadata": {
        "colab": {
          "base_uri": "https://localhost:8080/"
        },
        "id": "O2P6M_shun9U",
        "outputId": "b0fda962-4c13-40c7-db81-914863058cd7"
      },
      "execution_count": 32,
      "outputs": [
        {
          "output_type": "stream",
          "name": "stdout",
          "text": [
            "'g' ditemukan di indeks 6 dalam deret.\n"
          ]
        }
      ]
    },
    {
      "cell_type": "code",
      "source": [
        "bilangan = int(input('Masukan Bilangan: '))\n",
        "pangkat = int(input('Masukan Pangkat: '))\n",
        "\n",
        "def hitung_pangkat(bilangan, pangkat):\n",
        "  if pangkat > 1:\n",
        "    return bilangan * hitung_pangkat(bilangan, pangkat - 1)\n",
        "\n",
        "  return bilangan\n",
        "\n",
        "hasil = hitung_pangkat(bilangan, pangkat)\n",
        "print(f'hasil = {hasil}')"
      ],
      "metadata": {
        "colab": {
          "base_uri": "https://localhost:8080/"
        },
        "id": "unnQ4i8CW32w",
        "outputId": "9c791d4d-c960-4c8d-e0ec-45ef1d4cef87"
      },
      "execution_count": 2,
      "outputs": [
        {
          "output_type": "stream",
          "name": "stdout",
          "text": [
            "Masukan Bilangan: 4\n",
            "Masukan Pangkat: 6\n",
            "hasil = 4096\n"
          ]
        }
      ]
    },
    {
      "cell_type": "code",
      "source": [
        "n = int(input('Masukan Nilai n:'))\n",
        "\n",
        "def hitung_faktorial (n):\n",
        "  if n > 2:\n",
        "    return n * hitung_faktorial(n - 1)\n",
        "\n",
        "  return 2\n",
        "\n",
        "faktorial = hitung_faktorial(n)\n",
        "print(f'{n}! = {faktorial}')"
      ],
      "metadata": {
        "colab": {
          "base_uri": "https://localhost:8080/"
        },
        "id": "wJ_gUSRSunw5",
        "outputId": "8b762b8a-beab-4b68-d2b2-79b6966bac72"
      },
      "execution_count": 5,
      "outputs": [
        {
          "output_type": "stream",
          "name": "stdout",
          "text": [
            "Masukan Nilai n:5\n",
            "5! = 120\n"
          ]
        }
      ]
    },
    {
      "cell_type": "code",
      "source": [
        "def string_match(string, sub_str):\n",
        "  # Brute force string matching\n",
        "  for i in range(len(string)-len(sub_str)+1):\n",
        "   index = i\n",
        "  for j in range(len(sub_str)):\n",
        "   if string[index] == sub_str[j]:\n",
        "    index += 1\n",
        "   else:\n",
        "    break\n",
        "   if index-i == len(sub_str):\n",
        "    return i\n",
        "  return -1\n",
        "\n",
        "if __name__==\"__main__\":\n",
        "  print(string_match(\"adbcbdc\", \"bdc\"))"
      ],
      "metadata": {
        "colab": {
          "base_uri": "https://localhost:8080/"
        },
        "id": "aas3jheJbNh4",
        "outputId": "e970231b-da52-4fcd-ba4d-289a3b7a0894"
      },
      "execution_count": 7,
      "outputs": [
        {
          "output_type": "stream",
          "name": "stdout",
          "text": [
            "4\n"
          ]
        }
      ]
    },
    {
      "cell_type": "code",
      "source": [
        "# String yang berisi angka 1 sampai 9\n",
        "string_angka = \"123456789\"\n",
        "\n",
        "# Angka yang ingin dicari\n",
        "target_angka = \"56\"\n",
        "\n",
        "# Melakukan pencarian\n",
        "if target_angka in string_angka:\n",
        "    print(f\"{target_angka} ditemukan dalam string.\")\n",
        "else:\n",
        "    print(f\"{target_angka} tidak ditemukan dalam string.\")\n"
      ],
      "metadata": {
        "colab": {
          "base_uri": "https://localhost:8080/"
        },
        "id": "SqJarmYec30S",
        "outputId": "c8a82be6-8336-4d8a-d783-d13b706e5252"
      },
      "execution_count": 8,
      "outputs": [
        {
          "output_type": "stream",
          "name": "stdout",
          "text": [
            "56 ditemukan dalam string.\n"
          ]
        }
      ]
    },
    {
      "cell_type": "code",
      "source": [
        "import random\n",
        "from itertools import permutations\n",
        "alltours = permutations\n",
        "\n",
        "def distnace_tour(aTour):\n",
        "    return sum(distance_points(aTour[i - 1], aTour[i])\n",
        "      for i in range(len(aTour)))\n",
        "\n",
        "aCity = complex\n",
        "\n",
        "def distance_points(first, second):\n",
        "    return abs(first - second)\n",
        "\n",
        "def generate_cities (number_of_cities):\n",
        "    seed=111;width=500;height=300\n",
        "    random.seed((number_of_cities, seed))\n",
        "    return frozenset(aCity(random.radint(1, width), random.randint(1,height))\n",
        "        for c in range(number_of_cities))"
      ],
      "metadata": {
        "id": "W3GNFjtddweq"
      },
      "execution_count": 10,
      "outputs": []
    }
  ]
}