{
  "nbformat": 4,
  "nbformat_minor": 0,
  "metadata": {
    "colab": {
      "provenance": [],
      "authorship_tag": "ABX9TyPEn7rPvPx5CvUm2xSJ8oFq",
      "include_colab_link": true
    },
    "kernelspec": {
      "name": "python3",
      "display_name": "Python 3"
    },
    "language_info": {
      "name": "python"
    }
  },
  "cells": [
    {
      "cell_type": "markdown",
      "metadata": {
        "id": "view-in-github",
        "colab_type": "text"
      },
      "source": [
        "<a href=\"https://colab.research.google.com/github/algsn/-/blob/main/M2_DAA.ipynb\" target=\"_parent\"><img src=\"https://colab.research.google.com/assets/colab-badge.svg\" alt=\"Open In Colab\"/></a>"
      ]
    },
    {
      "cell_type": "code",
      "execution_count": null,
      "metadata": {
        "colab": {
          "base_uri": "https://localhost:8080/"
        },
        "id": "uuzNjQNGIoVG",
        "outputId": "f6aa9965-9f69-45ef-da2c-a9d4713f78d1"
      },
      "outputs": [
        {
          "output_type": "stream",
          "name": "stdout",
          "text": [
            "1.23.5\n"
          ]
        }
      ],
      "source": [
        "import numpy as np\n",
        "print(np.__version__)"
      ]
    },
    {
      "cell_type": "markdown",
      "source": [
        "# Big O Notation\n",
        "##Constan time (O(1)) complexcy"
      ],
      "metadata": {
        "id": "y1v5Shb8P78P"
      }
    },
    {
      "cell_type": "code",
      "source": [
        "import numpy as np\n",
        "\n",
        "a = [1, 2, 3]\n",
        "b = [4, 5, 6]\n",
        "\n",
        "# Ubah list menjadi array NumPy\n",
        "array_a = np.array(a)\n",
        "array_b = np.array(b)\n",
        "\n",
        "# Jumlahkan dua array\n",
        "hasil = array_a + array_b\n",
        "\n",
        "print(hasil)\n",
        "\n",
        "\n",
        "\n",
        "\n",
        "\n"
      ],
      "metadata": {
        "colab": {
          "base_uri": "https://localhost:8080/"
        },
        "id": "ltp3lNTjJJn_",
        "outputId": "d0a2b10a-ea0f-415a-8fad-88406ba80962"
      },
      "execution_count": null,
      "outputs": [
        {
          "output_type": "stream",
          "name": "stdout",
          "text": [
            "[5 7 9]\n"
          ]
        }
      ]
    },
    {
      "cell_type": "code",
      "source": [
        "import numpy as np\n",
        "#membuat array\n",
        "nilai_siswa = np.array([85,55,40,90])\n",
        "\n",
        "#mengakses data pada array\n",
        "print(nilai_siswa[3])"
      ],
      "metadata": {
        "colab": {
          "base_uri": "https://localhost:8080/"
        },
        "id": "iF8zyrnQL7U9",
        "outputId": "eb0df4fa-f42b-452e-8b51-0851e1faabc7"
      },
      "execution_count": null,
      "outputs": [
        {
          "output_type": "stream",
          "name": "stdout",
          "text": [
            "90\n"
          ]
        }
      ]
    },
    {
      "cell_type": "code",
      "source": [
        "# terdapat list a dan b\n",
        "a = [1, 2, 3]\n",
        "b = [4, 5, 6]\n",
        "\n",
        "\n",
        "\n",
        "\n",
        "# lalu jumlahkan\n",
        "hasil = a + b\n",
        "\n",
        "print(hasil) # [1, 2, 3, 4, 5, 6]\n",
        "\n",
        "\n"
      ],
      "metadata": {
        "colab": {
          "base_uri": "https://localhost:8080/"
        },
        "id": "QFfa3gYcKjjt",
        "outputId": "c59ea370-b3d0-4070-be56-bbe5929bd293"
      },
      "execution_count": null,
      "outputs": [
        {
          "output_type": "stream",
          "name": "stdout",
          "text": [
            "[1, 2, 3, 4, 5, 6]\n"
          ]
        }
      ]
    },
    {
      "cell_type": "code",
      "source": [
        "# terdapat list a dan b\n",
        "a = [1, 2, 3]\n",
        "b = [4, 5, 6]\n",
        "\n",
        "def add(a, b):\n",
        "  result = []\n",
        "  for first, second in zip(a, b):\n",
        "    result.append(first + second)\n",
        "  return result\n",
        "add(a,b)"
      ],
      "metadata": {
        "colab": {
          "base_uri": "https://localhost:8080/"
        },
        "id": "lyYWW2wFNWPM",
        "outputId": "f17120ab-8cdf-4c71-95e9-9836648623d4"
      },
      "execution_count": null,
      "outputs": [
        {
          "output_type": "execute_result",
          "data": {
            "text/plain": [
              "[5, 7, 9]"
            ]
          },
          "metadata": {},
          "execution_count": 19
        }
      ]
    },
    {
      "cell_type": "code",
      "source": [
        "print(\"Hello, World!\")\n",
        "print(\"Nama saya (algisna)\")\n",
        "print(\"NIM saya (27)\")\n"
      ],
      "metadata": {
        "colab": {
          "base_uri": "https://localhost:8080/"
        },
        "id": "XAaQgBR2OQxK",
        "outputId": "c673158a-7f27-4c0f-cd4c-84ba2514f502"
      },
      "execution_count": null,
      "outputs": [
        {
          "output_type": "stream",
          "name": "stdout",
          "text": [
            "Hello, World!\n",
            "Nama saya (algisna)\n",
            "NIM saya (27)\n"
          ]
        }
      ]
    },
    {
      "cell_type": "code",
      "source": [
        "if 5>2:\n",
        "  print(\"Five is greater than two!\")\n"
      ],
      "metadata": {
        "colab": {
          "base_uri": "https://localhost:8080/"
        },
        "id": "MspJ0bV0RN3H",
        "outputId": "727cb0d5-ea4b-48d6-c742-788715d78fe5"
      },
      "execution_count": null,
      "outputs": [
        {
          "output_type": "stream",
          "name": "stdout",
          "text": [
            "Five is greater than two!\n"
          ]
        }
      ]
    },
    {
      "cell_type": "code",
      "source": [
        "\n",
        "x = 5\n",
        "y = \"John\"\n",
        "print(x)\n",
        "print(y)\n"
      ],
      "metadata": {
        "colab": {
          "base_uri": "https://localhost:8080/"
        },
        "id": "tqqo_88PRQPX",
        "outputId": "b804fc51-c51d-4e71-e187-bb4cb74c5df8"
      },
      "execution_count": null,
      "outputs": [
        {
          "output_type": "stream",
          "name": "stdout",
          "text": [
            "5\n",
            "John\n"
          ]
        }
      ]
    },
    {
      "cell_type": "code",
      "source": [
        "x = 4\n",
        "x = \"Sally\"\n",
        "print(x)"
      ],
      "metadata": {
        "colab": {
          "base_uri": "https://localhost:8080/"
        },
        "id": "8qN1phifSJUm",
        "outputId": "06941164-23ea-4594-e216-e73330f920fd"
      },
      "execution_count": null,
      "outputs": [
        {
          "output_type": "stream",
          "name": "stdout",
          "text": [
            "Sally\n"
          ]
        }
      ]
    },
    {
      "cell_type": "code",
      "source": [
        "def getFirst(myList):\n",
        "    return myList[0]\n",
        "getFirst([1,2,3])\n",
        "\n"
      ],
      "metadata": {
        "colab": {
          "base_uri": "https://localhost:8080/"
        },
        "id": "9_iN_3g3UUtL",
        "outputId": "08166ce5-0da9-409f-cdf6-27f63c666ed8"
      },
      "execution_count": null,
      "outputs": [
        {
          "output_type": "execute_result",
          "data": {
            "text/plain": [
              "1"
            ]
          },
          "metadata": {},
          "execution_count": 8
        }
      ]
    },
    {
      "cell_type": "code",
      "source": [
        "def getFirst(myList):\n",
        "    return myList[2]\n",
        "getFirst([1,2,3])"
      ],
      "metadata": {
        "colab": {
          "base_uri": "https://localhost:8080/"
        },
        "id": "USg4cBGTV59D",
        "outputId": "0d1e71f1-f7c3-418c-af90-29fc504762a9"
      },
      "execution_count": null,
      "outputs": [
        {
          "output_type": "execute_result",
          "data": {
            "text/plain": [
              "3"
            ]
          },
          "metadata": {},
          "execution_count": 13
        }
      ]
    },
    {
      "cell_type": "code",
      "source": [
        "def getFirst(myList):\n",
        "    return myList[1]\n",
        "getFirst([1,2,3])"
      ],
      "metadata": {
        "colab": {
          "base_uri": "https://localhost:8080/"
        },
        "id": "M_hHn_KOV7Va",
        "outputId": "6cbe4bc0-96b4-4f82-b4c8-48238f9d7824"
      },
      "execution_count": null,
      "outputs": [
        {
          "output_type": "execute_result",
          "data": {
            "text/plain": [
              "2"
            ]
          },
          "metadata": {},
          "execution_count": 17
        }
      ]
    },
    {
      "cell_type": "code",
      "source": [
        "def getSum(myList):\n",
        "  sum = 0\n",
        "  for item in myList:\n",
        "    sum = sum+item\n",
        "  return sum\n",
        "\n",
        "getSum([1,2,3,4])\n"
      ],
      "metadata": {
        "colab": {
          "base_uri": "https://localhost:8080/"
        },
        "id": "fJ616u2RVZhz",
        "outputId": "0099939f-e530-4571-9790-3894266d3577"
      },
      "execution_count": null,
      "outputs": [
        {
          "output_type": "execute_result",
          "data": {
            "text/plain": [
              "10"
            ]
          },
          "metadata": {},
          "execution_count": 12
        }
      ]
    },
    {
      "cell_type": "code",
      "source": [
        "def getKali(myList):\n",
        "  kali = 1\n",
        "  for item in myList:\n",
        "    kali = kali*item\n",
        "  return kali\n",
        "\n",
        "getKali([1,2,3,4])"
      ],
      "metadata": {
        "colab": {
          "base_uri": "https://localhost:8080/"
        },
        "id": "ssDAjrdLWS06",
        "outputId": "0cbec3b0-4774-4eed-da4e-e1adb3f71da5"
      },
      "execution_count": null,
      "outputs": [
        {
          "output_type": "execute_result",
          "data": {
            "text/plain": [
              "24"
            ]
          },
          "metadata": {},
          "execution_count": 35
        }
      ]
    },
    {
      "cell_type": "code",
      "source": [
        "def getBagi(myList):\n",
        "  bagi = 1\n",
        "  for item in myList:\n",
        "    bagi = bagi/item\n",
        "  return bagi\n",
        "\n",
        "getBagi([1,2,3,4])"
      ],
      "metadata": {
        "colab": {
          "base_uri": "https://localhost:8080/"
        },
        "id": "ez7UHjB0WVOZ",
        "outputId": "af6544be-d833-459c-8cad-076cdb3f1fe3"
      },
      "execution_count": null,
      "outputs": [
        {
          "output_type": "execute_result",
          "data": {
            "text/plain": [
              "0.041666666666666664"
            ]
          },
          "metadata": {},
          "execution_count": 37
        }
      ]
    },
    {
      "cell_type": "code",
      "source": [
        "def getSum(myList):\n",
        "  sum = 0\n",
        "  for row in myList:\n",
        "    for item in row:\n",
        "        sum += item\n",
        "  return sum\n",
        "\n",
        "getSum([[1,2,5],[3,4,7]])"
      ],
      "metadata": {
        "colab": {
          "base_uri": "https://localhost:8080/"
        },
        "id": "Y7IyF_1RX3Ti",
        "outputId": "9287596c-5be8-475e-9470-dbcaff517db9"
      },
      "execution_count": null,
      "outputs": [
        {
          "output_type": "execute_result",
          "data": {
            "text/plain": [
              "22"
            ]
          },
          "metadata": {},
          "execution_count": 23
        }
      ]
    },
    {
      "cell_type": "code",
      "source": [
        "def getSum(myList):\n",
        "  sum = 1\n",
        "  for row in myList:\n",
        "    for item in row:\n",
        "        sum = item\n",
        "  return sum\n",
        "\n",
        "getSum([[1,2,5],[3,4,7]])"
      ],
      "metadata": {
        "colab": {
          "base_uri": "https://localhost:8080/"
        },
        "id": "MQ03fQg_ZTNY",
        "outputId": "7b6760d9-da12-4574-866c-9d871f8b03f3"
      },
      "execution_count": null,
      "outputs": [
        {
          "output_type": "execute_result",
          "data": {
            "text/plain": [
              "-21"
            ]
          },
          "metadata": {},
          "execution_count": 38
        }
      ]
    },
    {
      "cell_type": "code",
      "source": [
        "def bagi(list_a, list_b):\n",
        " result = []\n",
        " for first, second in zip(list_a, list_b):\n",
        "  result.append(first/second)\n",
        " return result\n",
        "\n",
        "bagi([1,2,3,4], [5,6,7,8])\n"
      ],
      "metadata": {
        "colab": {
          "base_uri": "https://localhost:8080/"
        },
        "id": "sf_w_HoqZT4X",
        "outputId": "f4204f99-97a8-4e23-9201-7ec8b88b629c"
      },
      "execution_count": null,
      "outputs": [
        {
          "output_type": "execute_result",
          "data": {
            "text/plain": [
              "[0.2, 0.3333333333333333, 0.42857142857142855, 0.5]"
            ]
          },
          "metadata": {},
          "execution_count": 47
        }
      ]
    },
    {
      "cell_type": "code",
      "source": [
        "def Kali(list_a, list_b):\n",
        " result = []\n",
        " for first, second in zip(list_a, list_b):\n",
        "  result.append(first*second)\n",
        " return result\n",
        "\n",
        "kali([1,2,3,4], [5,6,7,8])"
      ],
      "metadata": {
        "colab": {
          "base_uri": "https://localhost:8080/"
        },
        "id": "bsIVf9xwbwj3",
        "outputId": "6c6a2845-2d0a-4d01-a8a9-289e01d5c25a"
      },
      "execution_count": null,
      "outputs": [
        {
          "output_type": "execute_result",
          "data": {
            "text/plain": [
              "[5, 12, 21, 32]"
            ]
          },
          "metadata": {},
          "execution_count": 50
        }
      ]
    },
    {
      "cell_type": "code",
      "source": [
        "def Sum(list_a, list_b):\n",
        " result = []\n",
        " for first, second in zip(list_a, list_b):\n",
        "  result.append(first-second)\n",
        " return result\n",
        "\n",
        "Sum([1,2,3,4], [5,6,7,8])"
      ],
      "metadata": {
        "colab": {
          "base_uri": "https://localhost:8080/"
        },
        "id": "ZKm8cbHtbxaV",
        "outputId": "3a41ac8c-f442-4a32-dece-f88394dd0cc7"
      },
      "execution_count": null,
      "outputs": [
        {
          "output_type": "execute_result",
          "data": {
            "text/plain": [
              "[-4, -4, -4, -4]"
            ]
          },
          "metadata": {},
          "execution_count": 53
        }
      ]
    },
    {
      "cell_type": "code",
      "source": [
        "def searchBinary(myList,item):\n",
        "    first = 0\n",
        "    last = len(myList)-1\n",
        "    foundFlag = False\n",
        "    while( first <=last and not foundFlag):\n",
        "      mid = (first + last)//2\n",
        "      if myList[mid] == item :\n",
        "        foundFlag = True\n",
        "      else:\n",
        "        if item < myList[mid]:\n",
        "          last = mid - 1\n",
        "        else:\n",
        "          first = mid + 1\n",
        "    return foundFlag\n",
        "\n",
        "searchBinary([8,9,10,100,1000,2000,3000], 10)"
      ],
      "metadata": {
        "colab": {
          "base_uri": "https://localhost:8080/"
        },
        "id": "6heqfpl6bx-9",
        "outputId": "35b582fa-f26d-46bd-940f-f1ac5887a2f0"
      },
      "execution_count": null,
      "outputs": [
        {
          "output_type": "execute_result",
          "data": {
            "text/plain": [
              "True"
            ]
          },
          "metadata": {},
          "execution_count": 31
        }
      ]
    },
    {
      "cell_type": "code",
      "source": [
        "# terdapat list a dan b\n",
        "a = [1, 2, 3]\n",
        "b = [4, 5, 6]\n",
        "\n",
        "\n",
        "\n",
        "\n",
        "# lalu jumlahkan\n",
        "hasil = a + b\n",
        "\n",
        "print(hasil) # [1, 2, 3, 4, 5, 6]\n"
      ],
      "metadata": {
        "id": "uwPvt13Xoung"
      },
      "execution_count": null,
      "outputs": []
    },
    {
      "cell_type": "code",
      "source": [
        "def getSum(numbers):\n",
        "    # Fungsi ini akan menjumlahkan semua angka dalam himpunan\n",
        "    total = sum(numbers)\n",
        "    return total\n",
        "\n",
        "def divideSets(set1, set2):\n",
        "    # Memeriksa apakah salah satu himpunan kosong\n",
        "    if not set1 or not set2:\n",
        "        return None\n",
        "\n",
        "    # Menghitung jumlah angka dalam masing-masing himpunan\n",
        "    sum_set1 = getSum(set1)\n",
        "    sum_set2 = getSum(set2)\n",
        "\n",
        "    # Membagi himpunan dengan rasio jumlah angka\n",
        "    ratio = sum_set1 / sum_set2\n",
        "    result_set1 = [x / ratio for x in set1]\n",
        "    result_set2 = [x for x in set2]\n",
        "\n",
        "    return result_set1, result_set2\n",
        "\n",
        "# Contoh penggunaan\n",
        "set1 = [1, 2, 3, 4, 5]\n",
        "set2 = [6, 7, 8, 9, 10]\n",
        "\n",
        "result_set1, result_set2 = divideSets(set1, set2)\n",
        "\n",
        "print(\"Setelah pembagian:\")\n",
        "print(\"Set 1:\", result_set1)\n",
        "print(\"Set 2:\", result_set2)\n"
      ],
      "metadata": {
        "colab": {
          "base_uri": "https://localhost:8080/"
        },
        "id": "6BIskHWQZwq3",
        "outputId": "496e229d-eb2d-4055-c010-5ebbd44b41be"
      },
      "execution_count": null,
      "outputs": [
        {
          "output_type": "stream",
          "name": "stdout",
          "text": [
            "Setelah pembagian:\n",
            "Set 1: [2.6666666666666665, 5.333333333333333, 8.0, 10.666666666666666, 13.333333333333334]\n",
            "Set 2: [6, 7, 8, 9, 10]\n"
          ]
        }
      ]
    }
  ]
}