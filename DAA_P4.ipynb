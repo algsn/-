{
  "nbformat": 4,
  "nbformat_minor": 0,
  "metadata": {
    "colab": {
      "provenance": [],
      "authorship_tag": "ABX9TyOTuP8Ajvde/yz4Gl3aQw/i",
      "include_colab_link": true
    },
    "kernelspec": {
      "name": "python3",
      "display_name": "Python 3"
    },
    "language_info": {
      "name": "python"
    }
  },
  "cells": [
    {
      "cell_type": "markdown",
      "metadata": {
        "id": "view-in-github",
        "colab_type": "text"
      },
      "source": [
        "<a href=\"https://colab.research.google.com/github/algsn/DAA/blob/main/DAA_P4.ipynb\" target=\"_parent\"><img src=\"https://colab.research.google.com/assets/colab-badge.svg\" alt=\"Open In Colab\"/></a>"
      ]
    },
    {
      "cell_type": "code",
      "execution_count": 1,
      "metadata": {
        "id": "wx5Dk2zyXJkX",
        "outputId": "1dd89e07-0a1a-43da-e598-c1d3a097b7b5",
        "colab": {
          "base_uri": "https://localhost:8080/"
        }
      },
      "outputs": [
        {
          "output_type": "stream",
          "name": "stdout",
          "text": [
            "2 1\n"
          ]
        }
      ],
      "source": [
        "var1 = 1\n",
        "var2 = 2\n",
        "var1, var2 = var2, var1\n",
        "\n",
        "print(var1, var2)"
      ]
    },
    {
      "cell_type": "code",
      "source": [
        "# Latihan\n",
        "var1 = 1\n",
        "var2 = 2\n",
        "var3 = 3\n",
        "def swap(var1, var2, var3):\n",
        "  var1, var3 = var3, var1\n",
        "  print(var1, var2, var3)\n",
        "\n",
        "swap(var1, var2, var3)"
      ],
      "metadata": {
        "id": "dYw_3LtxXOe1",
        "outputId": "b751fb7a-200b-47af-e1a4-1116c9c9737a",
        "colab": {
          "base_uri": "https://localhost:8080/"
        }
      },
      "execution_count": 2,
      "outputs": [
        {
          "output_type": "stream",
          "name": "stdout",
          "text": [
            "3 2 1\n"
          ]
        }
      ]
    },
    {
      "cell_type": "code",
      "source": [
        "list = [25, 21, 22, 24, 23, 27, 26]\n",
        "\n",
        "lastElementIndex = len(list) - 1\n",
        "print(0, list)\n",
        "for idx in range(lastElementIndex):\n",
        "  if list[idx] > list[idx + 1]:\n",
        "    list[idx], list[idx+1] = list[idx + 1], list[idx]\n",
        "  print(idx + 1, list)"
      ],
      "metadata": {
        "id": "Es-f7jAFXRIr",
        "outputId": "c7c20d25-db78-473f-96c5-53e50b89b73b",
        "colab": {
          "base_uri": "https://localhost:8080/"
        }
      },
      "execution_count": 3,
      "outputs": [
        {
          "output_type": "stream",
          "name": "stdout",
          "text": [
            "0 [25, 21, 22, 24, 23, 27, 26]\n",
            "1 [21, 25, 22, 24, 23, 27, 26]\n",
            "2 [21, 22, 25, 24, 23, 27, 26]\n",
            "3 [21, 22, 24, 25, 23, 27, 26]\n",
            "4 [21, 22, 24, 23, 25, 27, 26]\n",
            "5 [21, 22, 24, 23, 25, 27, 26]\n",
            "6 [21, 22, 24, 23, 25, 26, 27]\n"
          ]
        }
      ]
    },
    {
      "cell_type": "code",
      "source": [
        "def BubbleSort(list):\n",
        "  lastElementIndex = len(list) - 1\n",
        "  for passNo in range(lastElementIndex, 0, -1):\n",
        "    for idx in range(passNo):\n",
        "      if list[idx] > list[idx + 1]:\n",
        "        list[idx], list[idx + 1] = list[idx + 1], list[idx]\n",
        "  return list\n",
        "\n",
        "BubbleSort(list)"
      ],
      "metadata": {
        "id": "IXebOQhkXVHJ",
        "outputId": "68864388-4fa0-41da-a3f1-a53ead86b2c0",
        "colab": {
          "base_uri": "https://localhost:8080/"
        }
      },
      "execution_count": 4,
      "outputs": [
        {
          "output_type": "execute_result",
          "data": {
            "text/plain": [
              "[21, 22, 23, 24, 25, 26, 27]"
            ]
          },
          "metadata": {},
          "execution_count": 4
        }
      ]
    },
    {
      "cell_type": "code",
      "source": [
        "# Latihan\n",
        "list2 = [100, 20, 60, 90, 40, 30, 10]\n",
        "BubbleSort(list2)"
      ],
      "metadata": {
        "id": "tn5IT9YNXYyR",
        "outputId": "41bffee4-f719-4241-9e38-c28cbafd66d8",
        "colab": {
          "base_uri": "https://localhost:8080/"
        }
      },
      "execution_count": 5,
      "outputs": [
        {
          "output_type": "execute_result",
          "data": {
            "text/plain": [
              "[10, 20, 30, 40, 60, 90, 100]"
            ]
          },
          "metadata": {},
          "execution_count": 5
        }
      ]
    },
    {
      "cell_type": "code",
      "source": [
        "def InsertionSort(list):\n",
        "  for i in range(1, len(list)):\n",
        "    j = i - 1\n",
        "    next = list[i]\n",
        "\n",
        "    while (list[j] > next) and (j >= 0):\n",
        "      list[j+1] = list[j]\n",
        "      j = j - 1\n",
        "    list[j + 1] =  next\n",
        "  return list\n",
        "\n",
        "list3 = [35, 31, 32, 34, 33, 37, 36]\n",
        "InsertionSort(list3)"
      ],
      "metadata": {
        "id": "Xfe2H-aGXZvv",
        "outputId": "be20afa2-152e-400f-f65a-6cc723003006",
        "colab": {
          "base_uri": "https://localhost:8080/"
        }
      },
      "execution_count": 6,
      "outputs": [
        {
          "output_type": "execute_result",
          "data": {
            "text/plain": [
              "[31, 32, 33, 34, 35, 36, 37]"
            ]
          },
          "metadata": {},
          "execution_count": 6
        }
      ]
    },
    {
      "cell_type": "code",
      "source": [
        "# Latihan\n",
        "list4 = [89, 12, 57, 16, 25, 11, 75]\n",
        "InsertionSort(list4)"
      ],
      "metadata": {
        "id": "cmeqfYTXXdYA",
        "outputId": "8febd218-e2ca-4f42-a2a5-b4be2a040602",
        "colab": {
          "base_uri": "https://localhost:8080/"
        }
      },
      "execution_count": 7,
      "outputs": [
        {
          "output_type": "execute_result",
          "data": {
            "text/plain": [
              "[11, 12, 16, 25, 57, 75, 89]"
            ]
          },
          "metadata": {},
          "execution_count": 7
        }
      ]
    },
    {
      "cell_type": "code",
      "source": [
        "def SelectionSort(list):\n",
        "  for fill_slot in range(len(list) - 1, 0, -1):\n",
        "    max_index = 0\n",
        "    for location in range(1, fill_slot + 1):\n",
        "      if list[location] > list[max_index]:\n",
        "        max_index = location\n",
        "      list[fill_slot], list[max_index] = list[max_index], list[fill_slot]\n",
        "  return list\n",
        "\n",
        "list5 = [70, 15, 25, 19, 34, 44]\n",
        "SelectionSort(list5)"
      ],
      "metadata": {
        "id": "gdnA96aQXfIs",
        "outputId": "62e9f7b4-c6df-49d9-f7e0-4414e5068d4f",
        "colab": {
          "base_uri": "https://localhost:8080/"
        }
      },
      "execution_count": 8,
      "outputs": [
        {
          "output_type": "execute_result",
          "data": {
            "text/plain": [
              "[15, 19, 25, 34, 44, 70]"
            ]
          },
          "metadata": {},
          "execution_count": 8
        }
      ]
    },
    {
      "cell_type": "code",
      "source": [
        "# Latihan\n",
        "list6 = [89, 12, 57, 16, 25]\n",
        "SelectionSort(list6)"
      ],
      "metadata": {
        "id": "zZvvB09ZXhAt",
        "outputId": "976d43a5-0bd5-4d8f-aa98-f2ccbf9225b1",
        "colab": {
          "base_uri": "https://localhost:8080/"
        }
      },
      "execution_count": 9,
      "outputs": [
        {
          "output_type": "execute_result",
          "data": {
            "text/plain": [
              "[12, 16, 25, 57, 89]"
            ]
          },
          "metadata": {},
          "execution_count": 9
        }
      ]
    },
    {
      "cell_type": "code",
      "source": [
        "def LinearSearch(list, item):\n",
        "  index = 0\n",
        "  found = False\n",
        "\n",
        "  while index < len(list) and found is False:\n",
        "    if list[index] == item:\n",
        "      found = True\n",
        "    else:\n",
        "      index = index + 1\n",
        "  return found\n",
        "\n",
        "list7 = [12, 33, 11, 99, 22, 55, 90]\n",
        "print(LinearSearch(list7, 12))\n",
        "print(LinearSearch(list7, 91))"
      ],
      "metadata": {
        "id": "eYQQObNBXjFB",
        "outputId": "a85654b2-5c07-4868-fb9d-520ecf4911e1",
        "colab": {
          "base_uri": "https://localhost:8080/"
        }
      },
      "execution_count": 10,
      "outputs": [
        {
          "output_type": "stream",
          "name": "stdout",
          "text": [
            "True\n",
            "False\n"
          ]
        }
      ]
    },
    {
      "cell_type": "code",
      "source": [
        "# Latihan\n",
        "list8 = [\"y\", \"u\", \"i\", \"w\", \"o\", \"a\", \"q\", \"u\", \"j\", \"p\"]\n",
        "\n",
        "print(LinearSearch(list8, \"a\"))"
      ],
      "metadata": {
        "id": "F1PG39y7XlTq",
        "outputId": "a47d259c-7d79-4148-caf0-1a42f605d80b",
        "colab": {
          "base_uri": "https://localhost:8080/"
        }
      },
      "execution_count": 11,
      "outputs": [
        {
          "output_type": "stream",
          "name": "stdout",
          "text": [
            "True\n"
          ]
        }
      ]
    },
    {
      "cell_type": "code",
      "source": [
        "def BinarySearch(list, item):\n",
        "  first = 0\n",
        "  last = len(list) - 1\n",
        "  found = False\n",
        "\n",
        "  while first <= last and not found:\n",
        "    midpoint = (first + last) // 2\n",
        "    if list[midpoint] == item:\n",
        "      found = True\n",
        "    else:\n",
        "      if item < list[midpoint]:\n",
        "        last = midpoint - 1\n",
        "      else:\n",
        "        first = midpoint + 1\n",
        "  return found\n",
        "\n",
        "print(BinarySearch(BubbleSort(list7), 12))\n",
        "print(BinarySearch(BubbleSort(list7), 91))"
      ],
      "metadata": {
        "id": "0S17TUSEXoh_",
        "outputId": "13f73d27-36ad-4a2b-b0b4-763282202c4d",
        "colab": {
          "base_uri": "https://localhost:8080/"
        }
      },
      "execution_count": 12,
      "outputs": [
        {
          "output_type": "stream",
          "name": "stdout",
          "text": [
            "True\n",
            "False\n"
          ]
        }
      ]
    },
    {
      "cell_type": "code",
      "source": [
        "# Latihan\n",
        "print(BinarySearch(BubbleSort(list8), \"a\"))"
      ],
      "metadata": {
        "id": "0VwdAlr4XrAU",
        "outputId": "0119058e-4f53-4041-c163-c2ac3f1109a0",
        "colab": {
          "base_uri": "https://localhost:8080/"
        }
      },
      "execution_count": 13,
      "outputs": [
        {
          "output_type": "stream",
          "name": "stdout",
          "text": [
            "True\n"
          ]
        }
      ]
    },
    {
      "cell_type": "code",
      "source": [
        "def IntPolSearch(list, x):\n",
        "  idx0 = 0\n",
        "  idxn = (len(list) - 1)\n",
        "  found = False\n",
        "\n",
        "  while idx0 <= idxn and x >= list[idx0] and x <= list[idxn]:\n",
        "    mid = idx0 + int(((float(idxn - idx0) / (list[idxn] - list[idx0])) * (x - list[idx0])))\n",
        "\n",
        "    if list[mid] == x:\n",
        "      found = True\n",
        "      return found\n",
        "\n",
        "    if list[mid] < x:\n",
        "      idx0 = mid + 1\n",
        "\n",
        "  return found\n",
        "\n",
        "print(IntPolSearch(BubbleSort(list7), 12))\n",
        "print(IntPolSearch(BubbleSort(list7), 9))"
      ],
      "metadata": {
        "id": "UtqgHpyOXs_h",
        "outputId": "0d37be00-a451-4216-be4f-b4005b3c14dd",
        "colab": {
          "base_uri": "https://localhost:8080/"
        }
      },
      "execution_count": 15,
      "outputs": [
        {
          "output_type": "stream",
          "name": "stdout",
          "text": [
            "True\n",
            "False\n"
          ]
        }
      ]
    },
    {
      "cell_type": "code",
      "source": [
        "# Latihan\n",
        "# Sedikit modifikasi agar dapat mencari string\n",
        "def InterpolationSearch(list, x):\n",
        "    idx0 = 0\n",
        "    idxn = len(list) - 1\n",
        "    found = False\n",
        "\n",
        "    while idx0 <= idxn and x >= list[idx0] and x <= list[idxn]:\n",
        "        mid = idx0 + int(((idxn - idx0) / (idxn - idx0)) * (idxn - idx0))\n",
        "\n",
        "        if list[mid] == x:\n",
        "            found = True\n",
        "            return found\n",
        "\n",
        "        elif list[mid] < x:\n",
        "            idx0 = mid + 1\n",
        "\n",
        "        else:\n",
        "            idxn = mid - 1\n",
        "\n",
        "    return found\n",
        "\n",
        "print(InterpolationSearch(BubbleSort(list8), \"u\"))"
      ],
      "metadata": {
        "id": "I_3zCvB_XvF7",
        "outputId": "c64b44dc-b0e5-405a-ceed-5307449d779a",
        "colab": {
          "base_uri": "https://localhost:8080/"
        }
      },
      "execution_count": 14,
      "outputs": [
        {
          "output_type": "stream",
          "name": "stdout",
          "text": [
            "True\n"
          ]
        }
      ]
    }
  ]
}